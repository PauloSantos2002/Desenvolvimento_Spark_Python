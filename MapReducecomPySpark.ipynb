{
  "nbformat": 4,
  "nbformat_minor": 0,
  "metadata": {
    "colab": {
      "provenance": [],
      "authorship_tag": "ABX9TyOnoXO9zk/DoPX7uS5I/qc8",
      "include_colab_link": true
    },
    "kernelspec": {
      "name": "python3",
      "display_name": "Python 3"
    },
    "language_info": {
      "name": "python"
    }
  },
  "cells": [
    {
      "cell_type": "markdown",
      "metadata": {
        "id": "view-in-github",
        "colab_type": "text"
      },
      "source": [
        "<a href=\"https://colab.research.google.com/github/PauloSantos2002/Desenvolvimento_Spark_Python/blob/main/MapReducecomPySpark.ipynb\" target=\"_parent\"><img src=\"https://colab.research.google.com/assets/colab-badge.svg\" alt=\"Open In Colab\"/></a>"
      ]
    },
    {
      "cell_type": "markdown",
      "source": [
        "# ***MapReduce com PySpark***"
      ],
      "metadata": {
        "id": "CCYVlp5X08sW"
      }
    },
    {
      "cell_type": "code",
      "source": [
        "from pyspark import SparkContext\n",
        "import numpy as np\n",
        "from operator import add\n",
        "spark_contexto = SparkContext()"
      ],
      "metadata": {
        "id": "JMqEGtErD2cc"
      },
      "execution_count": 1,
      "outputs": []
    },
    {
      "cell_type": "markdown",
      "source": [
        "# Vetores"
      ],
      "metadata": {
        "id": "ZCGl---zMQ33"
      }
    },
    {
      "cell_type": "code",
      "source": [
        "\n",
        "vetor = np.array([10,20,30,40,50])\n",
        "paralelo_vetor = spark_contexto.parallelize(vetor)\n",
        "print(paralelo_vetor)\n",
        "print(\"-------------\")\n",
        "mapa = paralelo_vetor.map(lambda x : x**2+x)\n",
        "\n",
        "resultado = mapa.collect()\n",
        "resultado_formatado = [int(x) for x in resultado]\n",
        "print(resultado_formatado)"
      ],
      "metadata": {
        "colab": {
          "base_uri": "https://localhost:8080/"
        },
        "id": "FvIyhcifEBab",
        "outputId": "fe8577d0-d4e9-415f-c290-10c01e4e0f47"
      },
      "execution_count": 2,
      "outputs": [
        {
          "output_type": "stream",
          "name": "stdout",
          "text": [
            "ParallelCollectionRDD[0] at readRDDFromFile at PythonRDD.scala:289\n",
            "-------------\n",
            "[110, 420, 930, 1640, 2550]\n"
          ]
        }
      ]
    },
    {
      "cell_type": "markdown",
      "source": [
        "# Listas"
      ],
      "metadata": {
        "id": "gEd8-_AOMVNv"
      }
    },
    {
      "cell_type": "code",
      "source": [
        "paralelo_lista = spark_contexto.parallelize(['distribuida', 'distribuida', 'spark', 'Saudade', 'spark','spark'])\n",
        "funcao_lambda = lambda x:(x,1)\n",
        "mapa = paralelo_lista.map(funcao_lambda).reduceByKey(add).collect()\n",
        "for (w,c) in mapa:\n",
        "  print('{}:{}'.format(w,c))"
      ],
      "metadata": {
        "colab": {
          "base_uri": "https://localhost:8080/"
        },
        "id": "3dFY2YJcMaqn",
        "outputId": "db275136-d052-461a-804e-97e31d7ba275"
      },
      "execution_count": 5,
      "outputs": [
        {
          "output_type": "stream",
          "name": "stdout",
          "text": [
            "Saudade:1\n",
            "distribuida:2\n",
            "spark:3\n"
          ]
        }
      ]
    },
    {
      "cell_type": "code",
      "source": [
        "spark_contexto.stop()"
      ],
      "metadata": {
        "id": "VtT0JutLNzaG"
      },
      "execution_count": null,
      "outputs": []
    }
  ]
}